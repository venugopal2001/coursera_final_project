{
    "cells": [
        {
            "cell_type": "markdown",
            "metadata": {},
            "source": "# FINAL PROJECT"
        },
        {
            "cell_type": "code",
            "execution_count": 73,
            "metadata": {},
            "outputs": [],
            "source": "# The code was removed by Watson Studio for sharing."
        },
        {
            "cell_type": "code",
            "execution_count": 74,
            "metadata": {},
            "outputs": [],
            "source": "import numpy as np\nimport pandas as pd\nimport matplotlib.pyplot as plt\nimport seaborn as sns\nfrom sklearn.preprocessing import StandardScaler\nfrom sklearn.metrics import accuracy_score\n%matplotlib inline"
        },
        {
            "cell_type": "code",
            "execution_count": 75,
            "metadata": {},
            "outputs": [
                {
                    "data": {
                        "text/html": "<div>\n<style scoped>\n    .dataframe tbody tr th:only-of-type {\n        vertical-align: middle;\n    }\n\n    .dataframe tbody tr th {\n        vertical-align: top;\n    }\n\n    .dataframe thead th {\n        text-align: right;\n    }\n</style>\n<table border=\"1\" class=\"dataframe\">\n  <thead>\n    <tr style=\"text-align: right;\">\n      <th></th>\n      <th>Loan_ID</th>\n      <th>Gender</th>\n      <th>Married</th>\n      <th>Dependents</th>\n      <th>Education</th>\n      <th>Self_Employed</th>\n      <th>ApplicantIncome</th>\n      <th>CoapplicantIncome</th>\n      <th>LoanAmount</th>\n      <th>Loan_Amount_Term</th>\n      <th>Credit_History</th>\n      <th>Property_Area</th>\n      <th>Loan_Status</th>\n    </tr>\n  </thead>\n  <tbody>\n    <tr>\n      <th>0</th>\n      <td>LP001002</td>\n      <td>Male</td>\n      <td>No</td>\n      <td>0</td>\n      <td>Graduate</td>\n      <td>No</td>\n      <td>5849</td>\n      <td>0.0</td>\n      <td>NaN</td>\n      <td>360.0</td>\n      <td>1.0</td>\n      <td>Urban</td>\n      <td>Y</td>\n    </tr>\n    <tr>\n      <th>1</th>\n      <td>LP001003</td>\n      <td>Male</td>\n      <td>Yes</td>\n      <td>1</td>\n      <td>Graduate</td>\n      <td>No</td>\n      <td>4583</td>\n      <td>1508.0</td>\n      <td>128.0</td>\n      <td>360.0</td>\n      <td>1.0</td>\n      <td>Rural</td>\n      <td>N</td>\n    </tr>\n    <tr>\n      <th>2</th>\n      <td>LP001005</td>\n      <td>Male</td>\n      <td>Yes</td>\n      <td>0</td>\n      <td>Graduate</td>\n      <td>Yes</td>\n      <td>3000</td>\n      <td>0.0</td>\n      <td>66.0</td>\n      <td>360.0</td>\n      <td>1.0</td>\n      <td>Urban</td>\n      <td>Y</td>\n    </tr>\n    <tr>\n      <th>3</th>\n      <td>LP001006</td>\n      <td>Male</td>\n      <td>Yes</td>\n      <td>0</td>\n      <td>Not Graduate</td>\n      <td>No</td>\n      <td>2583</td>\n      <td>2358.0</td>\n      <td>120.0</td>\n      <td>360.0</td>\n      <td>1.0</td>\n      <td>Urban</td>\n      <td>Y</td>\n    </tr>\n    <tr>\n      <th>4</th>\n      <td>LP001008</td>\n      <td>Male</td>\n      <td>No</td>\n      <td>0</td>\n      <td>Graduate</td>\n      <td>No</td>\n      <td>6000</td>\n      <td>0.0</td>\n      <td>141.0</td>\n      <td>360.0</td>\n      <td>1.0</td>\n      <td>Urban</td>\n      <td>Y</td>\n    </tr>\n  </tbody>\n</table>\n</div>",
                        "text/plain": "    Loan_ID Gender Married Dependents     Education Self_Employed  \\\n0  LP001002   Male      No          0      Graduate            No   \n1  LP001003   Male     Yes          1      Graduate            No   \n2  LP001005   Male     Yes          0      Graduate           Yes   \n3  LP001006   Male     Yes          0  Not Graduate            No   \n4  LP001008   Male      No          0      Graduate            No   \n\n   ApplicantIncome  CoapplicantIncome  LoanAmount  Loan_Amount_Term  \\\n0             5849                0.0         NaN             360.0   \n1             4583             1508.0       128.0             360.0   \n2             3000                0.0        66.0             360.0   \n3             2583             2358.0       120.0             360.0   \n4             6000                0.0       141.0             360.0   \n\n   Credit_History Property_Area Loan_Status  \n0             1.0         Urban           Y  \n1             1.0         Rural           N  \n2             1.0         Urban           Y  \n3             1.0         Urban           Y  \n4             1.0         Urban           Y  "
                    },
                    "execution_count": 75,
                    "metadata": {},
                    "output_type": "execute_result"
                }
            ],
            "source": "data=df_data_1\ndata.head()"
        },
        {
            "cell_type": "code",
            "execution_count": 76,
            "metadata": {},
            "outputs": [
                {
                    "data": {
                        "text/plain": "(614, 13)"
                    },
                    "execution_count": 76,
                    "metadata": {},
                    "output_type": "execute_result"
                }
            ],
            "source": "data.shape"
        },
        {
            "cell_type": "code",
            "execution_count": 77,
            "metadata": {},
            "outputs": [
                {
                    "data": {
                        "text/plain": "1    422\n0    192\nName: Loan_Status, dtype: int64"
                    },
                    "execution_count": 77,
                    "metadata": {},
                    "output_type": "execute_result"
                }
            ],
            "source": "data['Loan_Status'].replace(('Y','N'),(1,0),inplace=True)\ndata['Loan_Status'].value_counts()"
        },
        {
            "cell_type": "code",
            "execution_count": 78,
            "metadata": {},
            "outputs": [
                {
                    "data": {
                        "text/plain": "No     500\nYes     82\nName: Self_Employed, dtype: int64"
                    },
                    "execution_count": 78,
                    "metadata": {},
                    "output_type": "execute_result"
                }
            ],
            "source": "df=data.copy()\ndf['Self_Employed'].value_counts()"
        },
        {
            "cell_type": "code",
            "execution_count": 79,
            "metadata": {},
            "outputs": [
                {
                    "data": {
                        "text/html": "<div>\n<style scoped>\n    .dataframe tbody tr th:only-of-type {\n        vertical-align: middle;\n    }\n\n    .dataframe tbody tr th {\n        vertical-align: top;\n    }\n\n    .dataframe thead th {\n        text-align: right;\n    }\n</style>\n<table border=\"1\" class=\"dataframe\">\n  <thead>\n    <tr style=\"text-align: right;\">\n      <th></th>\n      <th>Loan_ID</th>\n      <th>Gender</th>\n      <th>Married</th>\n      <th>Dependents</th>\n      <th>Education</th>\n      <th>Self_Employed</th>\n      <th>ApplicantIncome</th>\n      <th>CoapplicantIncome</th>\n      <th>LoanAmount</th>\n      <th>Loan_Amount_Term</th>\n      <th>Credit_History</th>\n      <th>Property_Area</th>\n      <th>Loan_Status</th>\n    </tr>\n  </thead>\n  <tbody>\n    <tr>\n      <th>0</th>\n      <td>LP001002</td>\n      <td>Male</td>\n      <td>No</td>\n      <td>0</td>\n      <td>Graduate</td>\n      <td>No</td>\n      <td>5849</td>\n      <td>0.0</td>\n      <td>NaN</td>\n      <td>360.0</td>\n      <td>1.0</td>\n      <td>Urban</td>\n      <td>1</td>\n    </tr>\n    <tr>\n      <th>1</th>\n      <td>LP001003</td>\n      <td>Male</td>\n      <td>Yes</td>\n      <td>1</td>\n      <td>Graduate</td>\n      <td>No</td>\n      <td>4583</td>\n      <td>1508.0</td>\n      <td>128.0</td>\n      <td>360.0</td>\n      <td>1.0</td>\n      <td>Rural</td>\n      <td>0</td>\n    </tr>\n    <tr>\n      <th>2</th>\n      <td>LP001005</td>\n      <td>Male</td>\n      <td>Yes</td>\n      <td>0</td>\n      <td>Graduate</td>\n      <td>Yes</td>\n      <td>3000</td>\n      <td>0.0</td>\n      <td>66.0</td>\n      <td>360.0</td>\n      <td>1.0</td>\n      <td>Urban</td>\n      <td>1</td>\n    </tr>\n    <tr>\n      <th>3</th>\n      <td>LP001006</td>\n      <td>Male</td>\n      <td>Yes</td>\n      <td>0</td>\n      <td>Not Graduate</td>\n      <td>No</td>\n      <td>2583</td>\n      <td>2358.0</td>\n      <td>120.0</td>\n      <td>360.0</td>\n      <td>1.0</td>\n      <td>Urban</td>\n      <td>1</td>\n    </tr>\n    <tr>\n      <th>4</th>\n      <td>LP001008</td>\n      <td>Male</td>\n      <td>No</td>\n      <td>0</td>\n      <td>Graduate</td>\n      <td>No</td>\n      <td>6000</td>\n      <td>0.0</td>\n      <td>141.0</td>\n      <td>360.0</td>\n      <td>1.0</td>\n      <td>Urban</td>\n      <td>1</td>\n    </tr>\n  </tbody>\n</table>\n</div>",
                        "text/plain": "    Loan_ID Gender Married Dependents     Education Self_Employed  \\\n0  LP001002   Male      No          0      Graduate            No   \n1  LP001003   Male     Yes          1      Graduate            No   \n2  LP001005   Male     Yes          0      Graduate           Yes   \n3  LP001006   Male     Yes          0  Not Graduate            No   \n4  LP001008   Male      No          0      Graduate            No   \n\n   ApplicantIncome  CoapplicantIncome  LoanAmount  Loan_Amount_Term  \\\n0             5849                0.0         NaN             360.0   \n1             4583             1508.0       128.0             360.0   \n2             3000                0.0        66.0             360.0   \n3             2583             2358.0       120.0             360.0   \n4             6000                0.0       141.0             360.0   \n\n   Credit_History Property_Area  Loan_Status  \n0             1.0         Urban            1  \n1             1.0         Rural            0  \n2             1.0         Urban            1  \n3             1.0         Urban            1  \n4             1.0         Urban            1  "
                    },
                    "execution_count": 79,
                    "metadata": {},
                    "output_type": "execute_result"
                }
            ],
            "source": "df.head()"
        },
        {
            "cell_type": "code",
            "execution_count": 80,
            "metadata": {},
            "outputs": [
                {
                    "data": {
                        "text/html": "<div>\n<style scoped>\n    .dataframe tbody tr th:only-of-type {\n        vertical-align: middle;\n    }\n\n    .dataframe tbody tr th {\n        vertical-align: top;\n    }\n\n    .dataframe thead th {\n        text-align: right;\n    }\n</style>\n<table border=\"1\" class=\"dataframe\">\n  <thead>\n    <tr style=\"text-align: right;\">\n      <th></th>\n      <th>Loan_ID</th>\n      <th>Gender</th>\n      <th>Married</th>\n      <th>Dependents</th>\n      <th>Education</th>\n      <th>Self_Employed</th>\n      <th>ApplicantIncome</th>\n      <th>CoapplicantIncome</th>\n      <th>LoanAmount</th>\n      <th>Loan_Amount_Term</th>\n      <th>Credit_History</th>\n      <th>Property_Area</th>\n      <th>Loan_Status</th>\n    </tr>\n  </thead>\n  <tbody>\n    <tr>\n      <th>0</th>\n      <td>LP001002</td>\n      <td>1.0</td>\n      <td>0.0</td>\n      <td>0</td>\n      <td>1</td>\n      <td>No</td>\n      <td>5849</td>\n      <td>0.0</td>\n      <td>NaN</td>\n      <td>360.0</td>\n      <td>1.0</td>\n      <td>Urban</td>\n      <td>1</td>\n    </tr>\n    <tr>\n      <th>1</th>\n      <td>LP001003</td>\n      <td>1.0</td>\n      <td>1.0</td>\n      <td>1</td>\n      <td>1</td>\n      <td>No</td>\n      <td>4583</td>\n      <td>1508.0</td>\n      <td>128.0</td>\n      <td>360.0</td>\n      <td>1.0</td>\n      <td>Rural</td>\n      <td>0</td>\n    </tr>\n    <tr>\n      <th>2</th>\n      <td>LP001005</td>\n      <td>1.0</td>\n      <td>1.0</td>\n      <td>0</td>\n      <td>1</td>\n      <td>Yes</td>\n      <td>3000</td>\n      <td>0.0</td>\n      <td>66.0</td>\n      <td>360.0</td>\n      <td>1.0</td>\n      <td>Urban</td>\n      <td>1</td>\n    </tr>\n    <tr>\n      <th>3</th>\n      <td>LP001006</td>\n      <td>1.0</td>\n      <td>1.0</td>\n      <td>0</td>\n      <td>0</td>\n      <td>No</td>\n      <td>2583</td>\n      <td>2358.0</td>\n      <td>120.0</td>\n      <td>360.0</td>\n      <td>1.0</td>\n      <td>Urban</td>\n      <td>1</td>\n    </tr>\n    <tr>\n      <th>4</th>\n      <td>LP001008</td>\n      <td>1.0</td>\n      <td>0.0</td>\n      <td>0</td>\n      <td>1</td>\n      <td>No</td>\n      <td>6000</td>\n      <td>0.0</td>\n      <td>141.0</td>\n      <td>360.0</td>\n      <td>1.0</td>\n      <td>Urban</td>\n      <td>1</td>\n    </tr>\n  </tbody>\n</table>\n</div>",
                        "text/plain": "    Loan_ID  Gender  Married Dependents  Education Self_Employed  \\\n0  LP001002     1.0      0.0          0          1            No   \n1  LP001003     1.0      1.0          1          1            No   \n2  LP001005     1.0      1.0          0          1           Yes   \n3  LP001006     1.0      1.0          0          0            No   \n4  LP001008     1.0      0.0          0          1            No   \n\n   ApplicantIncome  CoapplicantIncome  LoanAmount  Loan_Amount_Term  \\\n0             5849                0.0         NaN             360.0   \n1             4583             1508.0       128.0             360.0   \n2             3000                0.0        66.0             360.0   \n3             2583             2358.0       120.0             360.0   \n4             6000                0.0       141.0             360.0   \n\n   Credit_History Property_Area  Loan_Status  \n0             1.0         Urban            1  \n1             1.0         Rural            0  \n2             1.0         Urban            1  \n3             1.0         Urban            1  \n4             1.0         Urban            1  "
                    },
                    "execution_count": 80,
                    "metadata": {},
                    "output_type": "execute_result"
                }
            ],
            "source": "df['Gender'].replace(('Male','Female'),(1,0),inplace=True)\ndf['Married'].replace(('Yes','No'),(1,0),inplace=True)\ndf['Education'].replace(('Graduate','Not Graduate'),(1,0),inplace=True)\ndf.head()"
        },
        {
            "cell_type": "code",
            "execution_count": 81,
            "metadata": {},
            "outputs": [
                {
                    "data": {
                        "text/html": "<div>\n<style scoped>\n    .dataframe tbody tr th:only-of-type {\n        vertical-align: middle;\n    }\n\n    .dataframe tbody tr th {\n        vertical-align: top;\n    }\n\n    .dataframe thead th {\n        text-align: right;\n    }\n</style>\n<table border=\"1\" class=\"dataframe\">\n  <thead>\n    <tr style=\"text-align: right;\">\n      <th></th>\n      <th>Gender</th>\n      <th>Married</th>\n      <th>Education</th>\n      <th>Self_Employed</th>\n      <th>ApplicantIncome</th>\n      <th>CoapplicantIncome</th>\n      <th>LoanAmount</th>\n      <th>Loan_Amount_Term</th>\n      <th>Credit_History</th>\n      <th>Loan_Status</th>\n    </tr>\n  </thead>\n  <tbody>\n    <tr>\n      <th>0</th>\n      <td>1.0</td>\n      <td>0.0</td>\n      <td>1</td>\n      <td>No</td>\n      <td>5849</td>\n      <td>0.0</td>\n      <td>NaN</td>\n      <td>360.0</td>\n      <td>1.0</td>\n      <td>1</td>\n    </tr>\n    <tr>\n      <th>1</th>\n      <td>1.0</td>\n      <td>1.0</td>\n      <td>1</td>\n      <td>No</td>\n      <td>4583</td>\n      <td>1508.0</td>\n      <td>128.0</td>\n      <td>360.0</td>\n      <td>1.0</td>\n      <td>0</td>\n    </tr>\n    <tr>\n      <th>2</th>\n      <td>1.0</td>\n      <td>1.0</td>\n      <td>1</td>\n      <td>Yes</td>\n      <td>3000</td>\n      <td>0.0</td>\n      <td>66.0</td>\n      <td>360.0</td>\n      <td>1.0</td>\n      <td>1</td>\n    </tr>\n    <tr>\n      <th>3</th>\n      <td>1.0</td>\n      <td>1.0</td>\n      <td>0</td>\n      <td>No</td>\n      <td>2583</td>\n      <td>2358.0</td>\n      <td>120.0</td>\n      <td>360.0</td>\n      <td>1.0</td>\n      <td>1</td>\n    </tr>\n    <tr>\n      <th>4</th>\n      <td>1.0</td>\n      <td>0.0</td>\n      <td>1</td>\n      <td>No</td>\n      <td>6000</td>\n      <td>0.0</td>\n      <td>141.0</td>\n      <td>360.0</td>\n      <td>1.0</td>\n      <td>1</td>\n    </tr>\n  </tbody>\n</table>\n</div>",
                        "text/plain": "   Gender  Married  Education Self_Employed  ApplicantIncome  \\\n0     1.0      0.0          1            No             5849   \n1     1.0      1.0          1            No             4583   \n2     1.0      1.0          1           Yes             3000   \n3     1.0      1.0          0            No             2583   \n4     1.0      0.0          1            No             6000   \n\n   CoapplicantIncome  LoanAmount  Loan_Amount_Term  Credit_History  \\\n0                0.0         NaN             360.0             1.0   \n1             1508.0       128.0             360.0             1.0   \n2                0.0        66.0             360.0             1.0   \n3             2358.0       120.0             360.0             1.0   \n4                0.0       141.0             360.0             1.0   \n\n   Loan_Status  \n0            1  \n1            0  \n2            1  \n3            1  \n4            1  "
                    },
                    "execution_count": 81,
                    "metadata": {},
                    "output_type": "execute_result"
                }
            ],
            "source": "cdf=df.drop(['Loan_ID','Dependents','Property_Area'],axis=1)\ncdf.head()"
        },
        {
            "cell_type": "code",
            "execution_count": 82,
            "metadata": {},
            "outputs": [
                {
                    "data": {
                        "text/html": "<div>\n<style scoped>\n    .dataframe tbody tr th:only-of-type {\n        vertical-align: middle;\n    }\n\n    .dataframe tbody tr th {\n        vertical-align: top;\n    }\n\n    .dataframe thead th {\n        text-align: right;\n    }\n</style>\n<table border=\"1\" class=\"dataframe\">\n  <thead>\n    <tr style=\"text-align: right;\">\n      <th></th>\n      <th>Gender</th>\n      <th>Married</th>\n      <th>Education</th>\n      <th>Self_Employed</th>\n      <th>ApplicantIncome</th>\n      <th>CoapplicantIncome</th>\n      <th>LoanAmount</th>\n      <th>Loan_Amount_Term</th>\n      <th>Credit_History</th>\n      <th>Loan_Status</th>\n    </tr>\n  </thead>\n  <tbody>\n    <tr>\n      <th>0</th>\n      <td>1.0</td>\n      <td>0.0</td>\n      <td>1</td>\n      <td>0</td>\n      <td>5849</td>\n      <td>0.0</td>\n      <td>0.0</td>\n      <td>360.0</td>\n      <td>1.0</td>\n      <td>1</td>\n    </tr>\n    <tr>\n      <th>1</th>\n      <td>1.0</td>\n      <td>1.0</td>\n      <td>1</td>\n      <td>0</td>\n      <td>4583</td>\n      <td>1508.0</td>\n      <td>128.0</td>\n      <td>360.0</td>\n      <td>1.0</td>\n      <td>0</td>\n    </tr>\n    <tr>\n      <th>2</th>\n      <td>1.0</td>\n      <td>1.0</td>\n      <td>1</td>\n      <td>1</td>\n      <td>3000</td>\n      <td>0.0</td>\n      <td>66.0</td>\n      <td>360.0</td>\n      <td>1.0</td>\n      <td>1</td>\n    </tr>\n    <tr>\n      <th>3</th>\n      <td>1.0</td>\n      <td>1.0</td>\n      <td>0</td>\n      <td>0</td>\n      <td>2583</td>\n      <td>2358.0</td>\n      <td>120.0</td>\n      <td>360.0</td>\n      <td>1.0</td>\n      <td>1</td>\n    </tr>\n    <tr>\n      <th>4</th>\n      <td>1.0</td>\n      <td>0.0</td>\n      <td>1</td>\n      <td>0</td>\n      <td>6000</td>\n      <td>0.0</td>\n      <td>141.0</td>\n      <td>360.0</td>\n      <td>1.0</td>\n      <td>1</td>\n    </tr>\n  </tbody>\n</table>\n</div>",
                        "text/plain": "   Gender  Married  Education  Self_Employed  ApplicantIncome  \\\n0     1.0      0.0          1              0             5849   \n1     1.0      1.0          1              0             4583   \n2     1.0      1.0          1              1             3000   \n3     1.0      1.0          0              0             2583   \n4     1.0      0.0          1              0             6000   \n\n   CoapplicantIncome  LoanAmount  Loan_Amount_Term  Credit_History  \\\n0                0.0         0.0             360.0             1.0   \n1             1508.0       128.0             360.0             1.0   \n2                0.0        66.0             360.0             1.0   \n3             2358.0       120.0             360.0             1.0   \n4                0.0       141.0             360.0             1.0   \n\n   Loan_Status  \n0            1  \n1            0  \n2            1  \n3            1  \n4            1  "
                    },
                    "execution_count": 82,
                    "metadata": {},
                    "output_type": "execute_result"
                }
            ],
            "source": "cdf.fillna(0,inplace=True)\ncdf['Self_Employed'].replace(('Yes','No'),(1,0),inplace=True)\ncdf.head()"
        },
        {
            "cell_type": "code",
            "execution_count": 83,
            "metadata": {},
            "outputs": [
                {
                    "data": {
                        "text/plain": "Gender               float64\nMarried              float64\nEducation              int64\nSelf_Employed          int64\nApplicantIncome        int64\nCoapplicantIncome    float64\nLoanAmount           float64\nLoan_Amount_Term     float64\nCredit_History       float64\nLoan_Status            int64\ndtype: object"
                    },
                    "execution_count": 83,
                    "metadata": {},
                    "output_type": "execute_result"
                }
            ],
            "source": "cdf.dtypes"
        },
        {
            "cell_type": "markdown",
            "metadata": {},
            "source": "# Correlating feature labels"
        },
        {
            "cell_type": "code",
            "execution_count": 84,
            "metadata": {},
            "outputs": [
                {
                    "data": {
                        "text/html": "<div>\n<style scoped>\n    .dataframe tbody tr th:only-of-type {\n        vertical-align: middle;\n    }\n\n    .dataframe tbody tr th {\n        vertical-align: top;\n    }\n\n    .dataframe thead th {\n        text-align: right;\n    }\n</style>\n<table border=\"1\" class=\"dataframe\">\n  <thead>\n    <tr style=\"text-align: right;\">\n      <th></th>\n      <th>Gender</th>\n      <th>Married</th>\n      <th>Education</th>\n      <th>Self_Employed</th>\n      <th>ApplicantIncome</th>\n      <th>CoapplicantIncome</th>\n      <th>LoanAmount</th>\n      <th>Loan_Amount_Term</th>\n      <th>Credit_History</th>\n      <th>Loan_Status</th>\n    </tr>\n  </thead>\n  <tbody>\n    <tr>\n      <th>Gender</th>\n      <td>1.000000</td>\n      <td>0.339026</td>\n      <td>-0.061497</td>\n      <td>-0.027421</td>\n      <td>0.013933</td>\n      <td>0.082316</td>\n      <td>0.051540</td>\n      <td>-0.052445</td>\n      <td>0.035780</td>\n      <td>0.025407</td>\n    </tr>\n    <tr>\n      <th>Married</th>\n      <td>0.339026</td>\n      <td>1.000000</td>\n      <td>-0.017671</td>\n      <td>0.008491</td>\n      <td>0.050194</td>\n      <td>0.080496</td>\n      <td>0.140023</td>\n      <td>-0.079926</td>\n      <td>-0.023626</td>\n      <td>0.084281</td>\n    </tr>\n    <tr>\n      <th>Education</th>\n      <td>-0.061497</td>\n      <td>-0.017671</td>\n      <td>1.000000</td>\n      <td>0.010383</td>\n      <td>0.140760</td>\n      <td>0.062290</td>\n      <td>0.173244</td>\n      <td>0.108857</td>\n      <td>0.081637</td>\n      <td>0.085884</td>\n    </tr>\n    <tr>\n      <th>Self_Employed</th>\n      <td>-0.027421</td>\n      <td>0.008491</td>\n      <td>0.010383</td>\n      <td>1.000000</td>\n      <td>0.127180</td>\n      <td>-0.016100</td>\n      <td>0.109154</td>\n      <td>-0.029185</td>\n      <td>-0.004994</td>\n      <td>-0.003700</td>\n    </tr>\n    <tr>\n      <th>ApplicantIncome</th>\n      <td>0.013933</td>\n      <td>0.050194</td>\n      <td>0.140760</td>\n      <td>0.127180</td>\n      <td>1.000000</td>\n      <td>-0.116605</td>\n      <td>0.538290</td>\n      <td>-0.015645</td>\n      <td>0.006986</td>\n      <td>-0.004710</td>\n    </tr>\n    <tr>\n      <th>CoapplicantIncome</th>\n      <td>0.082316</td>\n      <td>0.080496</td>\n      <td>0.062290</td>\n      <td>-0.016100</td>\n      <td>-0.116605</td>\n      <td>1.000000</td>\n      <td>0.190377</td>\n      <td>-0.050321</td>\n      <td>-0.058795</td>\n      <td>-0.059187</td>\n    </tr>\n    <tr>\n      <th>LoanAmount</th>\n      <td>0.051540</td>\n      <td>0.140023</td>\n      <td>0.173244</td>\n      <td>0.109154</td>\n      <td>0.538290</td>\n      <td>0.190377</td>\n      <td>1.000000</td>\n      <td>0.058519</td>\n      <td>-0.032711</td>\n      <td>-0.010631</td>\n    </tr>\n    <tr>\n      <th>Loan_Amount_Term</th>\n      <td>-0.052445</td>\n      <td>-0.079926</td>\n      <td>0.108857</td>\n      <td>-0.029185</td>\n      <td>-0.015645</td>\n      <td>-0.050321</td>\n      <td>0.058519</td>\n      <td>1.000000</td>\n      <td>0.050145</td>\n      <td>0.007306</td>\n    </tr>\n    <tr>\n      <th>Credit_History</th>\n      <td>0.035780</td>\n      <td>-0.023626</td>\n      <td>0.081637</td>\n      <td>-0.004994</td>\n      <td>0.006986</td>\n      <td>-0.058795</td>\n      <td>-0.032711</td>\n      <td>0.050145</td>\n      <td>1.000000</td>\n      <td>0.432616</td>\n    </tr>\n    <tr>\n      <th>Loan_Status</th>\n      <td>0.025407</td>\n      <td>0.084281</td>\n      <td>0.085884</td>\n      <td>-0.003700</td>\n      <td>-0.004710</td>\n      <td>-0.059187</td>\n      <td>-0.010631</td>\n      <td>0.007306</td>\n      <td>0.432616</td>\n      <td>1.000000</td>\n    </tr>\n  </tbody>\n</table>\n</div>",
                        "text/plain": "                     Gender   Married  Education  Self_Employed  \\\nGender             1.000000  0.339026  -0.061497      -0.027421   \nMarried            0.339026  1.000000  -0.017671       0.008491   \nEducation         -0.061497 -0.017671   1.000000       0.010383   \nSelf_Employed     -0.027421  0.008491   0.010383       1.000000   \nApplicantIncome    0.013933  0.050194   0.140760       0.127180   \nCoapplicantIncome  0.082316  0.080496   0.062290      -0.016100   \nLoanAmount         0.051540  0.140023   0.173244       0.109154   \nLoan_Amount_Term  -0.052445 -0.079926   0.108857      -0.029185   \nCredit_History     0.035780 -0.023626   0.081637      -0.004994   \nLoan_Status        0.025407  0.084281   0.085884      -0.003700   \n\n                   ApplicantIncome  CoapplicantIncome  LoanAmount  \\\nGender                    0.013933           0.082316    0.051540   \nMarried                   0.050194           0.080496    0.140023   \nEducation                 0.140760           0.062290    0.173244   \nSelf_Employed             0.127180          -0.016100    0.109154   \nApplicantIncome           1.000000          -0.116605    0.538290   \nCoapplicantIncome        -0.116605           1.000000    0.190377   \nLoanAmount                0.538290           0.190377    1.000000   \nLoan_Amount_Term         -0.015645          -0.050321    0.058519   \nCredit_History            0.006986          -0.058795   -0.032711   \nLoan_Status              -0.004710          -0.059187   -0.010631   \n\n                   Loan_Amount_Term  Credit_History  Loan_Status  \nGender                    -0.052445        0.035780     0.025407  \nMarried                   -0.079926       -0.023626     0.084281  \nEducation                  0.108857        0.081637     0.085884  \nSelf_Employed             -0.029185       -0.004994    -0.003700  \nApplicantIncome           -0.015645        0.006986    -0.004710  \nCoapplicantIncome         -0.050321       -0.058795    -0.059187  \nLoanAmount                 0.058519       -0.032711    -0.010631  \nLoan_Amount_Term           1.000000        0.050145     0.007306  \nCredit_History             0.050145        1.000000     0.432616  \nLoan_Status                0.007306        0.432616     1.000000  "
                    },
                    "execution_count": 84,
                    "metadata": {},
                    "output_type": "execute_result"
                }
            ],
            "source": "cdf.corr()"
        },
        {
            "cell_type": "code",
            "execution_count": 85,
            "metadata": {},
            "outputs": [],
            "source": "x=cdf[['Gender','Married','Education','Loan_Amount_Term','Credit_History']]\ny=cdf['Loan_Status']"
        },
        {
            "cell_type": "markdown",
            "metadata": {},
            "source": "# Normalization of the data"
        },
        {
            "cell_type": "code",
            "execution_count": 86,
            "metadata": {},
            "outputs": [
                {
                    "name": "stderr",
                    "output_type": "stream",
                    "text": "/opt/conda/envs/Python36/lib/python3.6/site-packages/sklearn/preprocessing/data.py:645: DataConversionWarning: Data with input dtype int64, float64 were all converted to float64 by StandardScaler.\n  return self.partial_fit(X, y)\n/opt/conda/envs/Python36/lib/python3.6/site-packages/sklearn/base.py:464: DataConversionWarning: Data with input dtype int64, float64 were all converted to float64 by StandardScaler.\n  return self.fit(X, **fit_params).transform(X)\n"
                },
                {
                    "data": {
                        "text/plain": "array([[ 0.50559245, -1.3574213 ,  0.52836225,  0.31416232,  0.54095432],\n       [ 0.50559245,  0.73669096,  0.52836225,  0.31416232,  0.54095432],\n       [ 0.50559245,  0.73669096,  0.52836225,  0.31416232,  0.54095432],\n       ...,\n       [ 0.50559245,  0.73669096,  0.52836225,  0.31416232,  0.54095432],\n       [ 0.50559245,  0.73669096,  0.52836225,  0.31416232,  0.54095432],\n       [-1.97787765, -1.3574213 ,  0.52836225,  0.31416232, -1.84858491]])"
                    },
                    "execution_count": 86,
                    "metadata": {},
                    "output_type": "execute_result"
                }
            ],
            "source": "#Normalization of data\nfrom sklearn.preprocessing import StandardScaler\nX=StandardScaler().fit_transform(x)\nX"
        },
        {
            "cell_type": "markdown",
            "metadata": {},
            "source": "# Splitting the data to Train and Test"
        },
        {
            "cell_type": "code",
            "execution_count": 87,
            "metadata": {},
            "outputs": [
                {
                    "name": "stdout",
                    "output_type": "stream",
                    "text": "Train Set: (491, 5) (491,)\nTest Set: (123, 5) (123,)\n"
                }
            ],
            "source": "from sklearn.model_selection import train_test_split\nX_train,X_test,y_train,y_test=train_test_split(X,y,test_size=0.2,random_state=4)\nprint(\"Train Set:\",X_train.shape,y_train.shape)\nprint(\"Test Set:\",X_test.shape,y_test.shape)"
        },
        {
            "cell_type": "markdown",
            "metadata": {},
            "source": "# Logistic Regression Model"
        },
        {
            "cell_type": "code",
            "execution_count": 88,
            "metadata": {},
            "outputs": [
                {
                    "data": {
                        "text/plain": "LogisticRegression(C=0.01, class_weight=None, dual=False, fit_intercept=True,\n          intercept_scaling=1, max_iter=100, multi_class='warn',\n          n_jobs=None, penalty='l2', random_state=None, solver='liblinear',\n          tol=0.0001, verbose=0, warm_start=False)"
                    },
                    "execution_count": 88,
                    "metadata": {},
                    "output_type": "execute_result"
                }
            ],
            "source": "from sklearn.linear_model import LogisticRegression\nlreg=LogisticRegression(C=0.01,solver=\"liblinear\").fit(X_train,y_train)\nlreg"
        },
        {
            "cell_type": "code",
            "execution_count": 89,
            "metadata": {},
            "outputs": [
                {
                    "data": {
                        "text/plain": "array([1, 1, 1, 1, 1, 1, 0, 0, 1, 1, 1, 0, 1, 1, 0, 1, 1, 1, 1, 1, 0, 1,\n       1, 1, 0, 1, 1, 1, 1, 1, 1, 1, 1, 1, 1, 0, 1, 1, 0, 1, 1, 1, 1, 1,\n       1, 1, 1, 0, 1, 1, 1, 1, 1, 1, 1, 0, 0, 1, 1, 1, 0, 1, 1, 1, 1, 0,\n       0, 1, 1, 0, 1, 1, 1, 1, 1, 1, 0, 1, 1, 1, 1, 1, 1, 0, 0, 1, 1, 1,\n       1, 1, 1, 1, 1, 1, 0, 1, 1, 1, 1, 1, 1, 1, 1, 1, 1, 1, 0, 1, 1, 0,\n       1, 0, 1, 1, 0, 1, 1, 1, 1, 0, 0, 0, 1])"
                    },
                    "execution_count": 89,
                    "metadata": {},
                    "output_type": "execute_result"
                }
            ],
            "source": "pred=lreg.predict(X_test)\npred"
        },
        {
            "cell_type": "code",
            "execution_count": 90,
            "metadata": {},
            "outputs": [
                {
                    "name": "stdout",
                    "output_type": "stream",
                    "text": "Accuracy Score of Logistic Regression Model: 78.86178861788618\n"
                }
            ],
            "source": "print(\"Accuracy Score of Logistic Regression Model:\",accuracy_score(y_test,lreg.predict(X_test))*100)"
        },
        {
            "cell_type": "markdown",
            "metadata": {},
            "source": "# KNN Model"
        },
        {
            "cell_type": "code",
            "execution_count": 91,
            "metadata": {},
            "outputs": [
                {
                    "name": "stdout",
                    "output_type": "stream",
                    "text": "K Neighbors Classifier: KNeighborsClassifier(algorithm='auto', leaf_size=30, metric='minkowski',\n           metric_params=None, n_jobs=None, n_neighbors=18, p=2,\n           weights='uniform')\nOptimum K value is: 18\nAccuracy Score: 78.86178861788618\n"
                }
            ],
            "source": "from sklearn.neighbors import KNeighborsClassifier\n\nfor k in range(3,50):\n    reg=KNeighborsClassifier(n_neighbors=k).fit(X_train,y_train)\n    acc_score=accuracy_score(y_test,reg.predict(X_test))\n    if k==3:\n        opt_k=k\n        max_score=acc_score\n        kreg=reg\n    if acc_score>max_score:\n        opt_k=k\n        max_score=acc_score\n        kreg=reg\nprint(\"K Neighbors Classifier:\",kreg)        \nprint(\"Optimum K value is:\",opt_k)\nprint(\"Accuracy Score:\",max_score*100)"
        },
        {
            "cell_type": "markdown",
            "metadata": {},
            "source": "# Decision Tree Classifier Model"
        },
        {
            "cell_type": "code",
            "execution_count": 92,
            "metadata": {},
            "outputs": [
                {
                    "data": {
                        "text/plain": "DecisionTreeClassifier(class_weight=None, criterion='entropy', max_depth=None,\n            max_features=None, max_leaf_nodes=None,\n            min_impurity_decrease=0.0, min_impurity_split=None,\n            min_samples_leaf=1, min_samples_split=2,\n            min_weight_fraction_leaf=0.0, presort=False, random_state=None,\n            splitter='best')"
                    },
                    "execution_count": 92,
                    "metadata": {},
                    "output_type": "execute_result"
                }
            ],
            "source": "from sklearn.tree import DecisionTreeClassifier\ndreg=DecisionTreeClassifier(criterion=\"entropy\").fit(X_train,y_train)\ndreg"
        },
        {
            "cell_type": "code",
            "execution_count": 93,
            "metadata": {},
            "outputs": [
                {
                    "data": {
                        "text/plain": "array([1, 1, 1, 1, 1, 1, 0, 0, 1, 1, 1, 0, 1, 1, 0, 1, 1, 0, 1, 0, 0, 1,\n       1, 1, 0, 1, 1, 1, 1, 1, 1, 1, 1, 0, 1, 0, 1, 1, 0, 1, 1, 1, 1, 1,\n       1, 1, 1, 0, 1, 1, 1, 1, 1, 1, 1, 0, 0, 1, 1, 1, 0, 1, 1, 1, 1, 0,\n       0, 1, 1, 0, 1, 1, 1, 1, 1, 1, 0, 1, 1, 1, 1, 1, 1, 0, 0, 1, 1, 1,\n       1, 0, 1, 1, 1, 1, 0, 1, 1, 1, 0, 1, 1, 1, 1, 1, 0, 0, 0, 1, 1, 0,\n       1, 0, 1, 0, 0, 1, 1, 1, 1, 0, 0, 0, 1])"
                    },
                    "execution_count": 93,
                    "metadata": {},
                    "output_type": "execute_result"
                }
            ],
            "source": "dpred=dreg.predict(X_test)\ndpred"
        },
        {
            "cell_type": "code",
            "execution_count": 94,
            "metadata": {},
            "outputs": [
                {
                    "name": "stdout",
                    "output_type": "stream",
                    "text": "Decision Tree Model accuracy: 75.60975609756098\n"
                }
            ],
            "source": "print(\"Decision Tree Model accuracy:\",accuracy_score(y_test,dreg.predict(X_test))*100)"
        },
        {
            "cell_type": "markdown",
            "metadata": {},
            "source": "# SVM Model"
        },
        {
            "cell_type": "code",
            "execution_count": 95,
            "metadata": {},
            "outputs": [
                {
                    "name": "stderr",
                    "output_type": "stream",
                    "text": "/opt/conda/envs/Python36/lib/python3.6/site-packages/sklearn/svm/base.py:196: FutureWarning: The default value of gamma will change from 'auto' to 'scale' in version 0.22 to account better for unscaled features. Set gamma explicitly to 'auto' or 'scale' to avoid this warning.\n  \"avoid this warning.\", FutureWarning)\n"
                },
                {
                    "data": {
                        "text/plain": "SVC(C=1.0, cache_size=200, class_weight=None, coef0=0.0,\n  decision_function_shape='ovr', degree=3, gamma='auto_deprecated',\n  kernel='rbf', max_iter=-1, probability=False, random_state=None,\n  shrinking=True, tol=0.001, verbose=False)"
                    },
                    "execution_count": 95,
                    "metadata": {},
                    "output_type": "execute_result"
                }
            ],
            "source": "from sklearn import svm\nsreg = svm.SVC(kernel='rbf')\nsreg.fit(X_train, y_train) "
        },
        {
            "cell_type": "code",
            "execution_count": 96,
            "metadata": {},
            "outputs": [
                {
                    "data": {
                        "text/plain": "array([1, 1, 1, 1, 1, 1, 0, 0, 1, 1, 1, 0, 1, 1, 0, 1, 1, 1, 1, 1, 0, 1,\n       1, 1, 0, 1, 1, 1, 1, 1, 1, 1, 1, 0, 1, 0, 1, 1, 0, 1, 1, 1, 1, 1,\n       1, 1, 1, 0, 1, 1, 1, 1, 1, 1, 1, 0, 0, 1, 1, 1, 0, 1, 1, 1, 1, 0,\n       0, 1, 1, 0, 1, 1, 1, 1, 1, 1, 0, 1, 1, 1, 1, 1, 1, 0, 0, 1, 1, 1,\n       1, 1, 1, 1, 1, 1, 0, 1, 1, 1, 1, 1, 1, 1, 1, 1, 0, 1, 0, 1, 1, 0,\n       1, 0, 1, 1, 0, 1, 1, 1, 1, 0, 0, 0, 1])"
                    },
                    "execution_count": 96,
                    "metadata": {},
                    "output_type": "execute_result"
                }
            ],
            "source": "spred=sreg.predict(X_test)\nspred"
        },
        {
            "cell_type": "code",
            "execution_count": 97,
            "metadata": {},
            "outputs": [
                {
                    "name": "stdout",
                    "output_type": "stream",
                    "text": "SVM Model Accuracy: 78.86178861788618\n"
                }
            ],
            "source": "print(\"SVM Model Accuracy:\",accuracy_score(y_test,spred)*100)"
        },
        {
            "cell_type": "code",
            "execution_count": 98,
            "metadata": {},
            "outputs": [],
            "source": "from sklearn.metrics import f1_score,log_loss"
        },
        {
            "cell_type": "markdown",
            "metadata": {},
            "source": "# F1 Scores"
        },
        {
            "cell_type": "code",
            "execution_count": 99,
            "metadata": {},
            "outputs": [
                {
                    "name": "stdout",
                    "output_type": "stream",
                    "text": "                                           F1 Scores for TRAIN SET                                            \nFor Logistic Regression Model: 0.8396094839609484\nFor KNN Model: 0.8402203856749312\nFor Decision Tree Model: 0.848137535816619\nFor SVM Model: 0.8419580419580419\n"
                }
            ],
            "source": "print(\"F1 Scores for TRAIN SET\".center(110))\nprint(\"For Logistic Regression Model:\",f1_score(y_train,lreg.predict(X_train)))\nprint(\"For KNN Model:\",f1_score(y_train,kreg.predict(X_train)))\nprint(\"For Decision Tree Model:\",f1_score(y_train,dreg.predict(X_train)))\nprint(\"For SVM Model:\",f1_score(y_train,sreg.predict(X_train)))"
        },
        {
            "cell_type": "code",
            "execution_count": 100,
            "metadata": {},
            "outputs": [
                {
                    "name": "stdout",
                    "output_type": "stream",
                    "text": "                                            F1 Scores for TEST SET                                            \nFor Logistic Regression Model: 0.8555555555555555\nFor KNN Model: 0.8555555555555555\nFor Decision Tree Model: 0.8255813953488371\nFor SVM Model: 0.8539325842696628\n"
                }
            ],
            "source": "print(\"F1 Scores for TEST SET\".center(110))\nprint(\"For Logistic Regression Model:\",f1_score(y_test,lreg.predict(X_test)))\nprint(\"For KNN Model:\",f1_score(y_test,kreg.predict(X_test)))\nprint(\"For Decision Tree Model:\",f1_score(y_test,dreg.predict(X_test)))\nprint(\"For SVM Model:\",f1_score(y_test,sreg.predict(X_test)))"
        },
        {
            "cell_type": "markdown",
            "metadata": {},
            "source": "# Log Loss"
        },
        {
            "cell_type": "code",
            "execution_count": 101,
            "metadata": {},
            "outputs": [
                {
                    "name": "stdout",
                    "output_type": "stream",
                    "text": "                                            Log Loss for TRAIN SET                                            \nLog Loss Value: 0.5653047110439261\n"
                }
            ],
            "source": "y_train_prob = lreg.predict_proba(X_train)\nprint(\"Log Loss for TRAIN SET\".center(110))\nprint(\"Log Loss Value:\",log_loss(y_train,y_train_prob))"
        },
        {
            "cell_type": "code",
            "execution_count": 102,
            "metadata": {},
            "outputs": [
                {
                    "name": "stdout",
                    "output_type": "stream",
                    "text": "                                            Log Loss for TEST SET                                             \nLog Loss Value: 0.5697163217254974\n"
                }
            ],
            "source": "y_test_prob = lreg.predict_proba(X_test)\nprint(\"Log Loss for TEST SET\".center(110))\nprint(\"Log Loss Value:\",log_loss(y_test,y_test_prob))"
        },
        {
            "cell_type": "markdown",
            "metadata": {},
            "source": "# Jaccard Similarity Score"
        },
        {
            "cell_type": "code",
            "execution_count": 103,
            "metadata": {},
            "outputs": [],
            "source": "from sklearn.metrics import jaccard_similarity_score"
        },
        {
            "cell_type": "code",
            "execution_count": 104,
            "metadata": {},
            "outputs": [
                {
                    "name": "stdout",
                    "output_type": "stream",
                    "text": "                                         Jaccard Scores for TRAIN SET                                         \nFor Logistic Regression: 76.57841140529531\nFor KNN Model: 76.37474541751527\nFor Decision Tree Model: 78.41140529531569\nFor SVM Model: 76.9857433808554\n"
                }
            ],
            "source": "print(\"Jaccard Scores for TRAIN SET\".center(110))\nprint(\"For Logistic Regression:\",jaccard_similarity_score(y_train,lreg.predict(X_train))*100)\nprint(\"For KNN Model:\",jaccard_similarity_score(y_train,kreg.predict(X_train))*100)\nprint(\"For Decision Tree Model:\",jaccard_similarity_score(y_train,dreg.predict(X_train))*100)\nprint(\"For SVM Model:\",jaccard_similarity_score(y_train,sreg.predict(X_train))*100)"
        },
        {
            "cell_type": "code",
            "execution_count": 105,
            "metadata": {},
            "outputs": [
                {
                    "name": "stdout",
                    "output_type": "stream",
                    "text": "                                         Jaccard Scores for TEST SET                                          \nFor Logistic Regression: 0.7886178861788617\nFor KNN Model: 0.7886178861788617\nFor Decision Tree Model: 0.7560975609756098\nFor SVM Model: 0.7886178861788617\n"
                }
            ],
            "source": "print(\"Jaccard Scores for TEST SET\".center(110))\nprint(\"For Logistic Regression:\",jaccard_similarity_score(y_test,lreg.predict(X_test)))\nprint(\"For KNN Model:\",jaccard_similarity_score(y_test,kreg.predict(X_test)))\nprint(\"For Decision Tree Model:\",jaccard_similarity_score(y_test,dreg.predict(X_test)))\nprint(\"For SVM Model:\",jaccard_similarity_score(y_test,sreg.predict(X_test)))"
        },
        {
            "cell_type": "markdown",
            "metadata": {},
            "source": "# Final Report\n\n| __Algorithm__ | __F1-score__ | __Jaccard__ | __LogLoss__|\n| --- | --- | --- | --- |\n| Logistic Regression Model| 0.8555 | 0.7888 | 0.5697 |\n| --- | --- | --- | --- |\n| KNN Model| 0.8555 | 0.7888 | NA | \n| --- | --- | --- | --- |\n| Decision Tree Model| 0.8208 | 0.7479 | NA |\n| --- | --- | --- | --- |\n| SVM Model| 0.8539 | 0.7886 | NA |\n\n__Even though Decision Tree Model showed good result in training set prediction, but Logistic Regression Model and KNN Model out-performs other models in the test set prediction.\nLogistic Regression Model is Best Model.__"
        }
    ],
    "metadata": {
        "kernelspec": {
            "display_name": "Python 3.6",
            "language": "python",
            "name": "python3"
        },
        "language_info": {
            "codemirror_mode": {
                "name": "ipython",
                "version": 3
            },
            "file_extension": ".py",
            "mimetype": "text/x-python",
            "name": "python",
            "nbconvert_exporter": "python",
            "pygments_lexer": "ipython3",
            "version": "3.6.9"
        }
    },
    "nbformat": 4,
    "nbformat_minor": 1
}